{
 "cells": [
  {
   "cell_type": "markdown",
   "metadata": {},
   "source": [
    "# Swapcase()"
   ]
  },
  {
   "cell_type": "code",
   "execution_count": 1,
   "metadata": {},
  
   "source": [
    "def swap_case(s):\n",
    "    p=s.swapcase()\n",
    "    return p\n",
    "\n",
    "if __name__ == '__main__':\n",
    "    s = input()\n",
    "    result = swap_case(s)\n",
    "    print(result)"
   ]
  },
  {
   "cell_type": "markdown",
   "metadata": {},
   "source": [
    "# String-Immutable\n",
    "to mutate first convert it into list and then change \n",
    "or break the string with slicing opr to put /change char at particular position"
   ]
  },
  {
   "cell_type": "code",
   "execution_count": 3,
   "metadata": {},
  
   "source": [
    "def mutate_string(string, position, character):\n",
    "    p=\"\"\n",
    "    p=string[:position]+character+string[position+1:]\n",
    "    return p\n",
    "\n",
    "if __name__ == '__main__':\n",
    "    s = input()\n",
    "    i, c = input().split()\n",
    "    s_new = mutate_string(s, int(i), c)\n",
    "    print(s_new)"
   ]
  },
  {
   "cell_type": "markdown",
   "metadata": {},
   "source": [
    "# Substring"
   ]
  },
  {
   "cell_type": "code",
   "execution_count": 1,
   "metadata": {
    "collapsed": true
   },
   
   ],
   "source": [
    "def count_substring(string, sub_string):\n",
    "    count=0\n",
    "    strlen=len(string)\n",
    "    sublen=len(sub_string)\n",
    "    \n",
    "    for i in range(0,strlen):\n",
    "        if(string[i:i+len(sub_string)]==sub_string):\n",
    "            count=count+1\n",
    "    return count\n",
    "\n",
    "if __name__ == '__main__':\n",
    "    string = input().strip()\n",
    "    sub_string = input().strip()\n",
    "    \n",
    "    count = count_substring(string, sub_string)\n",
    "    print(count)"
   ]
  },
  {
   "cell_type": "markdown",
   "metadata": {},
   "source": [
    "# String Validators"
   ]
  },
  {
   "cell_type": "code",
   "execution_count": null,
   "metadata": {},
   "outputs": [],
   "source": [
    "if __name__ == '__main__':\n",
    "    s = input()\n",
    "    flag_alnum = False\n",
    "    flag_alpha = False\n",
    "    flag_digit = False\n",
    "    flag_lower = False\n",
    "    flag_upper = False\n",
    "    for i in s:\n",
    "        if i.isalnum():\n",
    "            flag_alnum = True\n",
    "        if i.isalpha():\n",
    "            flag_alpha = True\n",
    "        if i.isdigit():\n",
    "            flag_digit = True\n",
    "        if i.islower():\n",
    "            flag_lower = True\n",
    "        if i.isupper():\n",
    "            flag_upper = True\n",
    "\n",
    "    print(flag_alnum)\n",
    "    print(flag_alpha)\n",
    "    print(flag_digit)\n",
    "    print(flag_lower)\n",
    "    print(flag_upper)"
   ]
  },
  {
   "cell_type": "code",
   "execution_count": null,
   "metadata": {},
   "outputs": [],
   "source": [
    "import textwrap\n",
    "\n",
    "\n",
    "def wrap(string, max_width):\n",
    "    return textwrap.fill(string, max_width)\n",
    "\n",
    "\n",
    "if __name__ == '__main__':\n",
    "    string, max_width = input(), int(input())\n",
    "    result = wrap(string, max_width)\n",
    "    print(result)"
   ]
  },
  {
   "cell_type": "code",
   "execution_count": null,
   "metadata": {},
   "outputs": [],
   "source": [
    "def print_formatted(number):\n",
    "    # your code goes here\n",
    "    for i in range(1,n+1):\n",
    "        o=oct(i)[2:]\n",
    "        h=hex(i)[2:]\n",
    "        h=h.upper()\n",
    "        b=bin(i)[2:]\n",
    "        w = len(str(bin(n))[2:])\n",
    "        #print(str(i)+\"\\t\"+o+\"\\t\"+h+\"\\t\"+ b)\n",
    "        print('{:>{width}} {:>{width}} {:>{width}} {:>{width}}'.format(i,o,h,b,width=w))\n",
    "           \n",
    "    \n",
    "        \n",
    "\n",
    "if __name__ == '__main__':\n",
    "    n = int(input())\n",
    "    print_formatted(n)"
   ]
  }
 ],
 "metadata": {
  "kernelspec": {
   "display_name": "Python 3",
   "language": "python",
   "name": "python3"
  },
  "language_info": {
   "codemirror_mode": {
    "name": "ipython",
    "version": 3
   },
   "file_extension": ".py",
   "mimetype": "text/x-python",
   "name": "python",
   "nbconvert_exporter": "python",
   "pygments_lexer": "ipython3",
   "version": "3.8.5"
  }
 },
 "nbformat": 4,
 "nbformat_minor": 4
}
