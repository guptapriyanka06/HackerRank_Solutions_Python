{
 "cells": [
  {
   "cell_type": "markdown",
   "metadata": {},
   "source": [
    "# Basic DataTypes"
   ]
  },
  {
   "cell_type": "markdown",
   "metadata": {},
   "source": [
    "# Lowest 2nd grade marks"
   ]
  },
  {
   "cell_type": "code",
   "execution_count": null,
   "metadata": {},
   "outputs": [],
   "source": [
    "record=[]\n",
    "s=[]\n",
    "\n",
    "if __name__ == '__main__':\n",
    "    for _ in range(int(input())):\n",
    "        name = input()\n",
    "        score = float(input())\n",
    "        rec=[name,score]\n",
    "        record.append(rec)\n",
    "        s.append(score)\n",
    "        \n",
    "    secondlowest=sorted(list(set(s)))[1]\n",
    "    \n",
    "    student_names = sorted([rec[0] for rec in record if rec[1]== secondlowest])\n",
    "    print(*student_names,sep=\"\\n\")"
   ]
  },
  {
   "cell_type": "markdown",
   "metadata": {},
   "source": [
    "# Runner up"
   ]
  },
  {
   "cell_type": "code",
   "execution_count": null,
   "metadata": {},
   "outputs": [],
   "source": [
    "def fnrunnerup2(arr):\n",
    "    #set keeps unique elements therefore while sorting only  unique ele will be there\n",
    "    s=set(arr)   \n",
    "    #now convert it into list then sort \n",
    "    l=list(s)\n",
    "    l.sort()\n",
    "    print(l[-2])\n",
    "\n",
    "if __name__ == '__main__':\n",
    "    n = int(input())\n",
    "    arr = map(int, input().split())\n",
    "    fnrunnerup2(arr)"
   ]
  },
  {
   "cell_type": "markdown",
   "metadata": {},
   "source": [
    "# Lists"
   ]
  },
  {
   "cell_type": "code",
   "execution_count": null,
   "metadata": {},
   "outputs": [],
   "source": [
    " def listfun(l,ar):\n",
    "    c=ar[0]\n",
    "    if c==\"insert\":\n",
    "        pos=int(ar[1])\n",
    "        ele=int(ar[2])\n",
    "        l.insert(pos,ele)\n",
    "    elif c==\"print\":\n",
    "        print(l)\n",
    "    elif c==\"remove\":\n",
    "        num=int(ar[1])\n",
    "        l.remove(num)\n",
    "    elif c==\"append\":\n",
    "        num=int(ar[1])\n",
    "        l.append(num)\n",
    "    elif c==\"sort\":\n",
    "        l.sort()\n",
    "    elif c==\"pop\":\n",
    "        l.pop()\n",
    "    elif c==\"reverse\":\n",
    "        l.reverse()\n",
    "    \n",
    "if __name__ == '__main__':\n",
    "    N = int(input())\n",
    "    l = []\n",
    "    for i in range(0, N):\n",
    "        st = input()\n",
    "        ar = st.strip().split(\" \")\n",
    "        listfun(l,ar)\n",
    "        \n",
    "    print(l)\n",
    "        "
   ]
  },
  {
   "cell_type": "markdown",
   "metadata": {},
   "source": [
    "# Tuples"
   ]
  },
  {
   "cell_type": "code",
   "execution_count": null,
   "metadata": {},
   "outputs": [],
   "source": [
    "if __name__ == '__main__':\n",
    "    n = int(input())\n",
    "    integer_list = map(int, input().split())\n",
    "    t=tuple(integer_list)\n",
    "    h=hash(t)\n",
    "    print(h)"
   ]
  },
  {
   "cell_type": "markdown",
   "metadata": {},
   "source": [
    "# Percentage"
   ]
  },
  {
   "cell_type": "code",
   "execution_count": null,
   "metadata": {},
   "outputs": [],
   "source": [
    "if __name__ == '__main__':\n",
    "    n = int(input())\n",
    "    student_marks = {}\n",
    "    for i in range(n):\n",
    "        ar= input().strip().split()\n",
    "        name=ar[0]\n",
    "        scores = list(map(float, ar[1:]))\n",
    "        student_marks[name] = scores\n",
    "    query_name = input()\n",
    "    \n",
    "    l=student_marks[query_name]\n",
    "    avg=sum(l)/len(l)\n",
    "    print(\"{:.2f}\".format(avg))"
   ]
  },
  {
   "cell_type": "markdown",
   "metadata": {},
   "source": [
    "# List comprehensions"
   ]
  },
  {
   "cell_type": "code",
   "execution_count": null,
   "metadata": {},
   "outputs": [],
   "source": [
    "if __name__ == '__main__':\n",
    "    x = int(input())\n",
    "    y = int(input())\n",
    "    z = int(input())\n",
    "    n = int(input())\n",
    "    ar = [[i, j, k] for i in range(x+1) for j in range(y+1) for k in range(z+1) if i+j+k!=n]\n",
    "    print(ar)"
   ]
  },
  {
   "cell_type": "code",
   "execution_count": null,
   "metadata": {},
   "outputs": [],
   "source": []
  },
  {
   "cell_type": "code",
   "execution_count": null,
   "metadata": {},
   "outputs": [],
   "source": []
  }
 ],
 "metadata": {
  "kernelspec": {
   "display_name": "Python 3",
   "language": "python",
   "name": "python3"
  },
  "language_info": {
   "codemirror_mode": {
    "name": "ipython",
    "version": 3
   },
   "file_extension": ".py",
   "mimetype": "text/x-python",
   "name": "python",
   "nbconvert_exporter": "python",
   "pygments_lexer": "ipython3",
   "version": "3.8.5"
  }
 },
 "nbformat": 4,
 "nbformat_minor": 4
}
